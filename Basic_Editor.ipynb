{
 "metadata": {
  "name": "",
  "signature": "sha256:fd9897e99d0ac3d748c5b025640c21de1118c584d1e5f0aa73094a751e388884"
 },
 "nbformat": 3,
 "nbformat_minor": 0,
 "worksheets": [
  {
   "cells": [
    {
     "cell_type": "heading",
     "level": 1,
     "metadata": {},
     "source": [
      "Basic Text File Editor"
     ]
    },
    {
     "cell_type": "markdown",
     "metadata": {},
     "source": [
      "Use this notebook as a basic text file editor."
     ]
    },
    {
     "cell_type": "markdown",
     "metadata": {},
     "source": [
      "1. Run the cell below to load the content of a specified file (`/path/or/url` can be replaced either by a local path or an URL).\n",
      "\n",
      "2. The content of the file/url will be added in a new cell created just below.\n",
      "\n",
      "3. Insert the following line at the top of the new created cell (`/path/to/saved/file` can be replaced either by a full path to a new, non-existing file or by the same path than the original file to overwrite it):\n",
      "\n",
      "\n",
      "    %%writefile /path/to/saved/file"
     ]
    },
    {
     "cell_type": "code",
     "collapsed": false,
     "input": [
      "%load /path/or/url"
     ],
     "language": "python",
     "metadata": {},
     "outputs": [],
     "prompt_number": 1
    }
   ],
   "metadata": {}
  }
 ]
}